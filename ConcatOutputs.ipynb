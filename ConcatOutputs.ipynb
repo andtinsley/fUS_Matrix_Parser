{
 "cells": [
  {
   "cell_type": "code",
   "execution_count": 2,
   "metadata": {},
   "outputs": [],
   "source": [
    "import pandas as pd\n",
    "import os\n",
    "import glob\n",
    "import sys\n",
    "import numpy as np\n",
    "import re"
   ]
  },
  {
   "cell_type": "code",
   "execution_count": 3,
   "metadata": {},
   "outputs": [],
   "source": [
    "path = os.getcwd()\n",
    "\n",
    "# read all the files with extension .csv\n",
    "filenames = glob.glob(os.path.join(path, \"*.csv\"))"
   ]
  },
  {
   "cell_type": "code",
   "execution_count": 18,
   "metadata": {},
   "outputs": [],
   "source": [
    "d_list = []\n",
    "\n",
    "for file in filenames:\n",
    "   # reading csv files\n",
    "   d = pd.read_csv(file, index_col=None, header=0)\n",
    "\n",
    "   file_name = file\n",
    "   file_name = file_name.split('.')[0]\n",
    "   file_name=file_name.split('_')[1]\n",
    "   d[\"Sample\"] = file_name\n",
    "   d_list.append(d)\n",
    "\n"
   ]
  },
  {
   "cell_type": "code",
   "execution_count": 20,
   "metadata": {},
   "outputs": [],
   "source": [
    "final_output = pd.concat(d_list, axis=0, ignore_index=True)"
   ]
  },
  {
   "cell_type": "code",
   "execution_count": null,
   "metadata": {},
   "outputs": [],
   "source": [
    "final_output.to_csv(\"ConcatResults.csv\", index=False)\n"
   ]
  }
 ],
 "metadata": {
  "kernelspec": {
   "display_name": "Python 3.10.1 ('fUS')",
   "language": "python",
   "name": "python3"
  },
  "language_info": {
   "codemirror_mode": {
    "name": "ipython",
    "version": 3
   },
   "file_extension": ".py",
   "mimetype": "text/x-python",
   "name": "python",
   "nbconvert_exporter": "python",
   "pygments_lexer": "ipython3",
   "version": "3.10.1"
  },
  "orig_nbformat": 4,
  "vscode": {
   "interpreter": {
    "hash": "c0246c182a251d72ad9a2bfa7aec5308319200f920c923f795a4aee90faa4d1f"
   }
  }
 },
 "nbformat": 4,
 "nbformat_minor": 2
}
